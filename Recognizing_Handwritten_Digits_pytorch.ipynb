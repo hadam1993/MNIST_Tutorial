{
 "cells": [
  {
   "cell_type": "markdown",
   "metadata": {},
   "source": [
    "# Outline\n",
    "\n",
    "- Create Methods to load & visualize handwritten digits\n",
    "- Create the Neural Network\n",
    "- Create the Training & Validation Process\n",
    "- Create test process"
   ]
  },
  {
   "cell_type": "markdown",
   "metadata": {},
   "source": [
    "## Create Methods to load & visualize Handwritten digits"
   ]
  },
  {
   "cell_type": "code",
   "execution_count": 1,
   "metadata": {},
   "outputs": [
    {
     "data": {
      "text/plain": [
       "<torch._C.Generator at 0x7f469008add0>"
      ]
     },
     "execution_count": 1,
     "metadata": {},
     "output_type": "execute_result"
    }
   ],
   "source": [
    "import torch\n",
    "import numpy as np\n",
    "from torch.utils.data import DataLoader\n",
    "from torchvision import datasets\n",
    "import torchvision.transforms as transforms\n",
    "torch.manual_seed(0)"
   ]
  },
  {
   "cell_type": "markdown",
   "metadata": {},
   "source": [
    "###### Create the data loader that will load the images in from the directory num_training_class as a pytorch tensor"
   ]
  },
  {
   "cell_type": "markdown",
   "metadata": {},
   "source": [
    "Transforms documentation\n",
    "https://pytorch.org/docs/stable/torchvision/transforms.html"
   ]
  },
  {
   "cell_type": "markdown",
   "metadata": {},
   "source": [
    "torchvision datasets documentation: https://pytorch.org/docs/stable/torchvision/datasets.html"
   ]
  },
  {
   "cell_type": "code",
   "execution_count": 3,
   "metadata": {},
   "outputs": [],
   "source": [
    "img_path = \"./Train\"\n",
    "transform = transforms.Compose([transforms.Grayscale(),\n",
    "                                transforms.ToTensor(),\n",
    "                                transforms.Normalize((0.5,), (0.5,))])\n",
    "img_dataset = datasets.ImageFolder(img_path,transform)\n",
    "train_set, val_set = torch.utils.data.random_split(img_dataset, [50000, 10000])\n",
    "train_data_loader = DataLoader(dataset =train_set,batch_size=16,shuffle=True,num_workers=1)\n",
    "val_data_loader = DataLoader(dataset =val_set,batch_size=64,shuffle=True,num_workers=1)"
   ]
  },
  {
   "cell_type": "markdown",
   "metadata": {},
   "source": [
    "###### Create a method to visualize the images that are collected from the data loader"
   ]
  },
  {
   "cell_type": "code",
   "execution_count": 4,
   "metadata": {},
   "outputs": [],
   "source": [
    "import matplotlib.pyplot as plt\n",
    "from torchvision.utils import make_grid\n",
    "def show(img):\n",
    "    npimg = img.numpy()\n",
    "    plt.imshow(np.transpose(npimg,(1,2,0)),interpolation='nearest')"
   ]
  },
  {
   "cell_type": "markdown",
   "metadata": {},
   "source": [
    "###### To iterate thru the images we can place the python native iter class over our dataloader and use the next method to load images and their associated labels"
   ]
  },
  {
   "cell_type": "code",
   "execution_count": 5,
   "metadata": {},
   "outputs": [],
   "source": [
    "data_iter = iter(val_data_loader)\n",
    "imgs, labels = data_iter.next()"
   ]
  },
  {
   "cell_type": "markdown",
   "metadata": {},
   "source": [
    "###### Use the show method we created earlier to display all the images in the image batch"
   ]
  },
  {
   "cell_type": "code",
   "execution_count": 6,
   "metadata": {},
   "outputs": [
    {
     "name": "stderr",
     "output_type": "stream",
     "text": [
      "Clipping input data to the valid range for imshow with RGB data ([0..1] for floats or [0..255] for integers).\n"
     ]
    },
    {
     "data": {
      "image/png": "[encoded data removed]",
      "text/plain": [
       "<Figure size 432x288 with 1 Axes>"
      ]
     },
     "metadata": {
      "needs_background": "light"
     },
     "output_type": "display_data"
    }
   ],
   "source": [
    "show(make_grid(imgs))"
   ]
  },
  {
   "cell_type": "code",
   "execution_count": 7,
   "metadata": {},
   "outputs": [
    {
     "data": {
      "text/plain": [
       "tensor([2, 5, 3, 6, 9, 6, 6, 1, 7, 5, 0, 2, 3, 3, 0, 6, 7, 3, 1, 0, 7, 9, 4, 6,\n",
       "        2, 9, 9, 1, 4, 1, 7, 2, 4, 9, 5, 0, 5, 0, 8, 1, 1, 5, 1, 9, 0, 8, 6, 9,\n",
       "        7, 0, 9, 8, 1, 3, 3, 3, 9, 0, 3, 2, 5, 5, 8, 9])"
      ]
     },
     "execution_count": 7,
     "metadata": {},
     "output_type": "execute_result"
    }
   ],
   "source": [
    "labels"
   ]
  },
  {
   "cell_type": "markdown",
   "metadata": {},
   "source": [
    "## Create Network"
   ]
  },
  {
   "cell_type": "code",
   "execution_count": 8,
   "metadata": {},
   "outputs": [],
   "source": [
    "import torch.nn as nn\n",
    "import torch.nn.functional as F"
   ]
  },
  {
   "cell_type": "markdown",
   "metadata": {},
   "source": [
    "#### We will create a shallow network that has 784 input nodes, a hidden layer with 1000 nodes, and an output layer with 10 nodes representing the 10 possible digits"
   ]
  },
  {
   "cell_type": "code",
   "execution_count": 9,
   "metadata": {},
   "outputs": [],
   "source": [
    "class Shallow_Network(nn.Module):\n",
    "    def __init__(self):\n",
    "        super(Shallow_Network,self).__init__()\n",
    "        self.fc1 = nn.Linear(28*28,1000)\n",
    "        self.out = nn.Linear(1000,10)\n",
    "    def forward(self,input):\n",
    "        x = F.sigmoid(self.fc1(input))\n",
    "        return (F.log_softmax(self.out(x),dim=1))"
   ]
  },
  {
   "cell_type": "code",
   "execution_count": null,
   "metadata": {},
   "outputs": [],
   "source": [
    "class Medium_Network(nn.Module):\n",
    "    def __init__(self):\n",
    "        super(Medium_Network,self).__init__()\n",
    "        self.fc1 = nn.Linear(28*28,1000)\n",
    "        self.fc2 = nn.Linear(1000,2000)\n",
    "        self.fc3 = nn.Linear(2000,1000)\n",
    "        self.out = nn.Linear(1000,10)\n",
    "    def forward(self,input):\n",
    "        x = F.relu(self.fc1(input))\n",
    "        x = F.relu(self.fc2(x))\n",
    "        x = F.relu(self.fc3(x))\n",
    "        return (F.log_softmax(self.out(x),dim=1))"
   ]
  },
  {
   "cell_type": "code",
   "execution_count": 10,
   "metadata": {},
   "outputs": [
    {
     "name": "stdout",
     "output_type": "stream",
     "text": [
      "cuda\n"
     ]
    }
   ],
   "source": [
    "net = Shallow_Network()\n",
    "device = torch.device(\"cuda\" if torch.cuda.is_available() else \"cpu\")\n",
    "print(device)"
   ]
  },
  {
   "cell_type": "markdown",
   "metadata": {},
   "source": [
    "#### Load Network onto the GPU"
   ]
  },
  {
   "cell_type": "code",
   "execution_count": 11,
   "metadata": {
    "scrolled": true
   },
   "outputs": [
    {
     "data": {
      "text/plain": [
       "Shallow_Network(\n",
       "  (fc1): Linear(in_features=784, out_features=1000, bias=True)\n",
       "  (out): Linear(in_features=1000, out_features=10, bias=True)\n",
       ")"
      ]
     },
     "execution_count": 11,
     "metadata": {},
     "output_type": "execute_result"
    }
   ],
   "source": [
    "net.to(device)"
   ]
  },
  {
   "cell_type": "markdown",
   "metadata": {},
   "source": [
    "## Create Training Process"
   ]
  },
  {
   "cell_type": "markdown",
   "metadata": {},
   "source": [
    "#### Create your optimizer"
   ]
  },
  {
   "cell_type": "code",
   "execution_count": 12,
   "metadata": {},
   "outputs": [],
   "source": [
    "import torch.optim as optim"
   ]
  },
  {
   "cell_type": "markdown",
   "metadata": {},
   "source": [
    "optim documentation https://pytorch.org/docs/stable/optim.html"
   ]
  },
  {
   "cell_type": "code",
   "execution_count": 13,
   "metadata": {},
   "outputs": [],
   "source": [
    "#Create an stochastic gradient descent optimizer\n",
    "adam = optim.Adam(net.parameters(), lr=0.001)"
   ]
  },
  {
   "cell_type": "markdown",
   "metadata": {},
   "source": [
    "#### Create the loss function"
   ]
  },
  {
   "cell_type": "code",
   "execution_count": 14,
   "metadata": {},
   "outputs": [
    {
     "data": {
      "text/plain": [
       "NLLLoss()"
      ]
     },
     "execution_count": 14,
     "metadata": {},
     "output_type": "execute_result"
    }
   ],
   "source": [
    "loss_func = nn.NLLLoss()\n",
    "loss_func.to(device)"
   ]
  },
  {
   "cell_type": "code",
   "execution_count": 15,
   "metadata": {
    "scrolled": true
   },
   "outputs": [
    {
     "name": "stderr",
     "output_type": "stream",
     "text": [
      "/home/ahonts/anaconda3/lib/python3.7/site-packages/torch/nn/functional.py:1351: UserWarning: nn.functional.sigmoid is deprecated. Use torch.sigmoid instead.\n",
      "  warnings.warn(\"nn.functional.sigmoid is deprecated. Use torch.sigmoid instead.\")\n"
     ]
    },
    {
     "name": "stdout",
     "output_type": "stream",
     "text": [
      "epoch  0\n",
      "training loss:  0.31502193\n",
      "validation loss:  0.19084398\n",
      "accuracy:  0.9411823248407644\n",
      "epoch  1\n",
      "training loss:  0.1503595\n",
      "validation loss:  0.16218747\n",
      "accuracy:  0.9510350318471338\n",
      "epoch  2\n",
      "training loss:  0.1177014\n",
      "validation loss:  0.12473176\n",
      "accuracy:  0.9626791401273885\n",
      "epoch  3\n",
      "training loss:  0.09928095\n",
      "validation loss:  0.10342711\n",
      "accuracy:  0.96984474522293\n",
      "epoch  4\n",
      "training loss:  0.09696482\n",
      "validation loss:  0.11146723\n",
      "accuracy:  0.9662619426751592\n",
      "epoch  5\n",
      "training loss:  0.089025505\n",
      "validation loss:  0.113221355\n",
      "accuracy:  0.9678542993630573\n",
      "epoch  6\n",
      "training loss:  0.06495231\n",
      "validation loss:  0.11180733\n",
      "accuracy:  0.9689490445859873\n",
      "epoch  7\n",
      "training loss:  0.08426621\n",
      "validation loss:  0.1035744\n",
      "accuracy:  0.9684514331210191\n",
      "epoch  8\n",
      "training loss:  0.076753445\n",
      "validation loss:  0.10510533\n",
      "accuracy:  0.9690485668789809\n",
      "epoch  9\n",
      "training loss:  0.077055365\n",
      "validation loss:  0.1449501\n",
      "accuracy:  0.9576035031847133\n",
      "epoch  10\n",
      "training loss:  0.070612244\n",
      "validation loss:  0.10402608\n",
      "accuracy:  0.9695461783439491\n",
      "epoch  11\n",
      "training loss:  0.07018096\n",
      "validation loss:  0.12539335\n",
      "accuracy:  0.9652667197452229\n",
      "epoch  12\n",
      "training loss:  0.066755265\n",
      "validation loss:  0.09831349\n",
      "accuracy:  0.9701433121019108\n",
      "epoch  13\n",
      "training loss:  0.067606516\n",
      "validation loss:  0.14141679\n",
      "accuracy:  0.9606886942675159\n",
      "epoch  14\n",
      "training loss:  0.061704013\n",
      "validation loss:  0.1293693\n",
      "accuracy:  0.9650676751592356\n",
      "epoch  15\n",
      "training loss:  0.06884259\n",
      "validation loss:  0.11807124\n",
      "accuracy:  0.9685509554140127\n",
      "epoch  16\n",
      "training loss:  0.06474703\n",
      "validation loss:  0.13281295\n",
      "accuracy:  0.9657643312101911\n",
      "epoch  17\n",
      "training loss:  0.062294435\n",
      "validation loss:  0.15222114\n",
      "accuracy:  0.960390127388535\n",
      "epoch  18\n",
      "training loss:  0.06079069\n",
      "validation loss:  0.15599458\n",
      "accuracy:  0.9599920382165605\n",
      "epoch  19\n",
      "training loss:  0.05910721\n",
      "validation loss:  0.14020108\n",
      "accuracy:  0.9618829617834395\n"
     ]
    }
   ],
   "source": [
    "cnt = 0\n",
    "average_losses = []\n",
    "average_val_losses = []\n",
    "acc = []\n",
    "for epoch in range(20):\n",
    "    data_iter = iter(train_data_loader)\n",
    "    cur_loss = []\n",
    "    while True:\n",
    "        try:\n",
    "            net.train()\n",
    "            #zero the gradient\n",
    "            adam.zero_grad()\n",
    "            #load the images and labels\n",
    "            imgs, labels = data_iter.next()\n",
    "            #Get output of network\n",
    "            probs = net(torch.flatten(imgs.to(device), start_dim=1))\n",
    "            #compute loss\n",
    "            loss = loss_func(probs,labels.to(device))\n",
    "            #compute the backward gradient and move network in that direction\n",
    "            loss.backward()\n",
    "            adam.step()\n",
    "            #gather loss\n",
    "            cur_loss.append(loss.detach().cpu().numpy())\n",
    "        except:\n",
    "            break\n",
    "    print(\"epoch \",epoch)\n",
    "    print(\"training loss: \", np.mean(cur_loss))\n",
    "    average_losses.append(np.mean(cur_loss))\n",
    "    \n",
    "    data_iter = iter(val_data_loader)\n",
    "    cur_val_loss = []\n",
    "    cur_acc = []\n",
    "    while True:\n",
    "        try:\n",
    "            net.eval()\n",
    "            imgs, labels = data_iter.next()\n",
    "            probs = net(torch.flatten(imgs.to(device), start_dim=1))\n",
    "            loss = loss_func(probs,labels.to(device))\n",
    "            cur_val_loss.append(loss.detach().cpu().numpy())\n",
    "            values, indices = torch.max(probs, 1)\n",
    "            accuracy = ((indices.to(device) - labels.to(device)) == 0).sum()\n",
    "            accuracy = accuracy.detach().cpu().numpy() / len(indices)\n",
    "            #print(accuracy)\n",
    "            cur_acc.append(accuracy)\n",
    "        except:\n",
    "            break\n",
    "    print(\"validation loss: \",np.mean(cur_val_loss))\n",
    "    average_losses.append(np.mean(cur_val_loss))\n",
    "    print(\"accuracy: \",np.mean(cur_acc))\n",
    "    average_losses.append(np.mean(cur_val_loss))\n",
    "    acc.append(np.mean(cur_acc))"
   ]
  },
  {
   "cell_type": "code",
   "execution_count": 17,
   "metadata": {},
   "outputs": [],
   "source": [
    "img_path = \"./Test\"\n",
    "transform = transforms.Compose([transforms.Grayscale(),\n",
    "                                transforms.ToTensor(),\n",
    "                                transforms.Normalize((0.5,), (0.5,))])\n",
    "test_dataset = datasets.ImageFolder(img_path,transform)\n",
    "test_data_loader = DataLoader(dataset =test_dataset,batch_size=1,shuffle=True,num_workers=1)"
   ]
  },
  {
   "cell_type": "code",
   "execution_count": 20,
   "metadata": {},
   "outputs": [
    {
     "name": "stdout",
     "output_type": "stream",
     "text": [
      "accuracy:  0.9618829617834395\n"
     ]
    }
   ],
   "source": [
    "data_iter = iter(test_data_loader)\n",
    "test_acc = []\n",
    "while True:\n",
    "    try:\n",
    "        net.eval()\n",
    "        imgs, labels = data_iter.next()\n",
    "        probs = net(torch.flatten(imgs.to(device), start_dim=1))\n",
    "        values, indices = torch.max(probs, 1)\n",
    "        accuracy = ((indices.to(device) - labels.to(device)) == 0).sum()\n",
    "        accuracy = accuracy.detach().cpu().numpy() / len(indices)\n",
    "        #print(accuracy)\n",
    "        test_acc.append(accuracy)\n",
    "    except:\n",
    "        break\n",
    "print(\"accuracy: \",np.mean(cur_acc))\n",
    "average_losses.append(np.mean(cur_val_loss))\n",
    "acc.append(np.mean(cur_acc))"
   ]
  }
 ],
 "metadata": {
  "kernelspec": {
   "display_name": "Python 3",
   "language": "python",
   "name": "python3"
  },
  "language_info": {
   "codemirror_mode": {
    "name": "ipython",
    "version": 3
   },
   "file_extension": ".py",
   "mimetype": "text/x-python",
   "name": "python",
   "nbconvert_exporter": "python",
   "pygments_lexer": "ipython3",
   "version": "3.7.3"
  }
 },
 "nbformat": 4,
 "nbformat_minor": 2
}
