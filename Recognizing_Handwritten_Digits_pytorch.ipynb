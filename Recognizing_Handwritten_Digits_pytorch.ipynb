{
 "cells": [
  {
   "cell_type": "markdown",
   "metadata": {},
   "source": [
    "# Outline\n",
    "\n",
    "- Create Methods to load & visualize handwritten digits\n",
    "- Create the Neural Network\n",
    "- Create the Training & Validation Process\n",
    "- Create test process"
   ]
  },
  {
   "cell_type": "markdown",
   "metadata": {},
   "source": [
    "## Create Methods to load & visualize Handwritten digits"
   ]
  },
  {
   "cell_type": "code",
   "execution_count": 1,
   "metadata": {},
   "outputs": [
    {
     "data": {
      "text/plain": [
       "<torch._C.Generator at 0x7f2ab4025dd0>"
      ]
     },
     "execution_count": 1,
     "metadata": {},
     "output_type": "execute_result"
    }
   ],
   "source": [
    "import torch\n",
    "import numpy as np\n",
    "from torch.utils.data import DataLoader\n",
    "from torchvision import datasets\n",
    "import torchvision.transforms as transforms\n",
    "torch.manual_seed(0)"
   ]
  },
  {
   "cell_type": "markdown",
   "metadata": {},
   "source": [
    "###### Create the data loader that will load the images in from the directory num_training_class as a pytorch tensor"
   ]
  },
  {
   "cell_type": "markdown",
   "metadata": {},
   "source": [
    "Transforms documentation\n",
    "https://pytorch.org/docs/stable/torchvision/transforms.html"
   ]
  },
  {
   "cell_type": "markdown",
   "metadata": {},
   "source": [
    "torchvision datasets documentation: https://pytorch.org/docs/stable/torchvision/datasets.html"
   ]
  },
  {
   "cell_type": "code",
   "execution_count": 2,
   "metadata": {},
   "outputs": [],
   "source": [
    "img_path = \"./Train\"\n",
    "#Transform the images by converting to grayscale\n",
    "#loading them as a torch tensor, and normalizing\n",
    "#The images with a mean of 0.5 and std of 0.5\n",
    "transform = transforms.Compose([transforms.Grayscale(),\n",
    "                                transforms.ToTensor(),\n",
    "                                transforms.Normalize((0.5,), (0.5,))])\n",
    "#Apply the transform to the dataset we are going to load in\n",
    "img_dataset = datasets.ImageFolder(img_path,transform)\n",
    "#Split data into training and validation sets\n",
    "train_set, val_set = torch.utils.data.random_split(img_dataset, [50000, 10000])\n",
    "#Create a data loader for the train set and validation sets. \n",
    "#They will give us batches of 64 images\n",
    "train_data_loader = DataLoader(dataset =train_set,batch_size=128,\n",
    "                               shuffle=True,num_workers=1)\n",
    "val_data_loader = DataLoader(dataset =val_set,batch_size=128,\n",
    "                             shuffle=True,num_workers=1)"
   ]
  },
  {
   "cell_type": "markdown",
   "metadata": {},
   "source": [
    "###### Create a method to visualize the images that are collected from the data loader"
   ]
  },
  {
   "cell_type": "code",
   "execution_count": 3,
   "metadata": {},
   "outputs": [],
   "source": [
    "import matplotlib.pyplot as plt\n",
    "from torchvision.utils import make_grid\n",
    "def show(img):\n",
    "    npimg = img.numpy()\n",
    "    plt.imshow(np.transpose(npimg,(1,2,0)),interpolation='nearest')"
   ]
  },
  {
   "cell_type": "markdown",
   "metadata": {},
   "source": [
    "###### To iterate thru the images we can place the python native iter class over our dataloader and use the next method to load images and their associated labels"
   ]
  },
  {
   "cell_type": "code",
   "execution_count": 4,
   "metadata": {},
   "outputs": [],
   "source": [
    "data_iter = iter(val_data_loader)\n",
    "imgs, labels = data_iter.next()"
   ]
  },
  {
   "cell_type": "markdown",
   "metadata": {},
   "source": [
    "###### Use the show method we created earlier to display all the images in the image batch"
   ]
  },
  {
   "cell_type": "code",
   "execution_count": 5,
   "metadata": {},
   "outputs": [
    {
     "name": "stderr",
     "output_type": "stream",
     "text": [
      "Clipping input data to the valid range for imshow with RGB data ([0..1] for floats or [0..255] for integers).\n"
     ]
    },
    {
     "data": {
      "image/png": "[encoded data removed]",
      "text/plain": [
       "<Figure size 432x288 with 1 Axes>"
      ]
     },
     "metadata": {
      "needs_background": "light"
     },
     "output_type": "display_data"
    }
   ],
   "source": [
    "show(make_grid(imgs))"
   ]
  },
  {
   "cell_type": "markdown",
   "metadata": {},
   "source": [
    "#### Make sure the labels match with the images"
   ]
  },
  {
   "cell_type": "code",
   "execution_count": 6,
   "metadata": {},
   "outputs": [
    {
     "data": {
      "text/plain": [
       "tensor([2, 5, 3, 6, 9, 6, 6, 1, 7, 5, 0, 2, 3, 3, 0, 6, 7, 3, 1, 0, 7, 9, 4, 6,\n",
       "        2, 9, 9, 1, 4, 1, 7, 2, 4, 9, 5, 0, 5, 0, 8, 1, 1, 5, 1, 9, 0, 8, 6, 9,\n",
       "        7, 0, 9, 8, 1, 3, 3, 3, 9, 0, 3, 2, 5, 5, 8, 9, 3, 2, 6, 0, 1, 9, 4, 6,\n",
       "        5, 3, 4, 1, 2, 6, 5, 5, 4, 9, 0, 5, 1, 6, 5, 3, 0, 7, 0, 0, 7, 0, 6, 1,\n",
       "        5, 2, 6, 6, 7, 0, 1, 1, 5, 8, 5, 4, 5, 6, 2, 2, 9, 2, 0, 1, 6, 1, 2, 5,\n",
       "        1, 3, 0, 2, 6, 2, 8, 5])"
      ]
     },
     "execution_count": 6,
     "metadata": {},
     "output_type": "execute_result"
    }
   ],
   "source": [
    "labels"
   ]
  },
  {
   "cell_type": "markdown",
   "metadata": {},
   "source": [
    "## Create Network"
   ]
  },
  {
   "cell_type": "code",
   "execution_count": 7,
   "metadata": {},
   "outputs": [],
   "source": [
    "import torch.nn as nn\n",
    "import torch.nn.functional as F"
   ]
  },
  {
   "cell_type": "markdown",
   "metadata": {},
   "source": [
    "#### We will create a shallow network that has 784 input nodes, a hidden layer with 1000 nodes, and an output layer with 10 nodes representing the 10 possible digits"
   ]
  },
  {
   "cell_type": "code",
   "execution_count": 8,
   "metadata": {},
   "outputs": [],
   "source": [
    "class Shallow_Network(nn.Module):\n",
    "    def __init__(self):\n",
    "        super(Shallow_Network,self).__init__()\n",
    "        self.fc1 = nn.Linear(28*28,1000)\n",
    "        self.out = nn.Linear(1000,10)\n",
    "    def forward(self,input):\n",
    "        x = F.sigmoid(self.fc1(input))\n",
    "        return (F.log_softmax(self.out(x),dim=1))"
   ]
  },
  {
   "cell_type": "code",
   "execution_count": null,
   "metadata": {},
   "outputs": [],
   "source": [
    "class Medium_Network(nn.Module):\n",
    "    def __init__(self):\n",
    "        super(Medium_Network,self).__init__()\n",
    "        self.fc1 = nn.Linear(28*28,1000)\n",
    "        self.fc2 = nn.Linear(1000,2000)\n",
    "        self.fc3 = nn.Linear(2000,1000)\n",
    "        self.out = nn.Linear(1000,10)\n",
    "    def forward(self,input):\n",
    "        x = F.relu(self.fc1(input))\n",
    "        x = F.relu(self.fc2(x))\n",
    "        x = F.relu(self.fc3(x))\n",
    "        return (F.log_softmax(self.out(x),dim=1))"
   ]
  },
  {
   "cell_type": "code",
   "execution_count": 9,
   "metadata": {},
   "outputs": [
    {
     "name": "stdout",
     "output_type": "stream",
     "text": [
      "cuda\n"
     ]
    }
   ],
   "source": [
    "net = Shallow_Network()\n",
    "device = torch.device(\"cuda\" if torch.cuda.is_available() else \"cpu\")\n",
    "print(device)"
   ]
  },
  {
   "cell_type": "markdown",
   "metadata": {},
   "source": [
    "#### Load Network onto the GPU"
   ]
  },
  {
   "cell_type": "code",
   "execution_count": 10,
   "metadata": {
    "scrolled": true
   },
   "outputs": [],
   "source": [
    "net = net.to(device)"
   ]
  },
  {
   "cell_type": "markdown",
   "metadata": {},
   "source": [
    "## Create Training Process"
   ]
  },
  {
   "cell_type": "markdown",
   "metadata": {},
   "source": [
    "#### Create your optimizer"
   ]
  },
  {
   "cell_type": "code",
   "execution_count": 11,
   "metadata": {},
   "outputs": [],
   "source": [
    "import torch.optim as optim"
   ]
  },
  {
   "cell_type": "markdown",
   "metadata": {},
   "source": [
    "optim documentation https://pytorch.org/docs/stable/optim.html"
   ]
  },
  {
   "cell_type": "code",
   "execution_count": 12,
   "metadata": {},
   "outputs": [],
   "source": [
    "#Create an stochastic gradient descent optimizer or Adam Optimizer\n",
    "sgd  = optim.SGD(net.parameters(), lr=0.001)\n",
    "adam = optim.Adam(net.parameters(), lr=0.001)"
   ]
  },
  {
   "cell_type": "markdown",
   "metadata": {},
   "source": [
    "#### Create the loss function"
   ]
  },
  {
   "cell_type": "code",
   "execution_count": 13,
   "metadata": {},
   "outputs": [],
   "source": [
    "loss_func = nn.NLLLoss()\n",
    "loss_func = loss_func.to(device)"
   ]
  },
  {
   "cell_type": "code",
   "execution_count": 14,
   "metadata": {},
   "outputs": [
    {
     "name": "stderr",
     "output_type": "stream",
     "text": [
      "/home/ahonts/anaconda3/lib/python3.7/site-packages/torch/nn/functional.py:1351: UserWarning: nn.functional.sigmoid is deprecated. Use torch.sigmoid instead.\n",
      "  warnings.warn(\"nn.functional.sigmoid is deprecated. Use torch.sigmoid instead.\")\n"
     ]
    },
    {
     "name": "stdout",
     "output_type": "stream",
     "text": [
      "epoch  0\n",
      "training loss:  0.45644423\n",
      "validation loss:  0.2978694\n",
      "accuracy:  0.9129746835443038\n",
      "epoch  1\n",
      "training loss:  0.23304144\n",
      "validation loss:  0.20522247\n",
      "accuracy:  0.9419501582278481\n",
      "epoch  2\n",
      "training loss:  0.16615483\n",
      "validation loss:  0.16155666\n",
      "accuracy:  0.9512460443037974\n",
      "epoch  3\n",
      "training loss:  0.124524616\n",
      "validation loss:  0.13199577\n",
      "accuracy:  0.9630142405063291\n",
      "epoch  4\n",
      "training loss:  0.097792834\n",
      "validation loss:  0.12019111\n",
      "accuracy:  0.964003164556962\n"
     ]
    }
   ],
   "source": [
    "cnt = 0\n",
    "average_losses = []\n",
    "average_val_losses = []\n",
    "acc = []\n",
    "min_validation = 100000.0\n",
    "min_val_epoch = 0\n",
    "for epoch in range(5):\n",
    "    data_iter = iter(train_data_loader)\n",
    "    cur_loss = []\n",
    "    while True:\n",
    "        try:\n",
    "            net.train()\n",
    "            #zero the gradient\n",
    "            adam.zero_grad()\n",
    "            #load the images and labels\n",
    "            imgs, labels = data_iter.next()\n",
    "            #Get output of network\n",
    "            probs = net(torch.flatten(imgs.to(device), start_dim=1))\n",
    "            #compute loss\n",
    "            loss = loss_func(probs,labels.to(device))\n",
    "            #compute the backward gradient and move network in that direction\n",
    "            loss.backward()\n",
    "            adam.step()\n",
    "            #gather loss\n",
    "            cur_loss.append(loss.detach().cpu().numpy())\n",
    "        except:\n",
    "            break\n",
    "    print(\"epoch \",epoch)\n",
    "    print(\"training loss: \", np.mean(cur_loss))\n",
    "    average_losses.append(np.mean(cur_loss))\n",
    "    \n",
    "    data_iter = iter(val_data_loader)\n",
    "    cur_val_loss = []\n",
    "    cur_acc = []\n",
    "    while True:\n",
    "        try:\n",
    "            net.eval()\n",
    "            imgs, labels = data_iter.next()\n",
    "            probs = net(torch.flatten(imgs.to(device), start_dim=1))\n",
    "            loss = loss_func(probs,labels.to(device))\n",
    "            cur_val_loss.append(loss.detach().cpu().numpy())\n",
    "            values, indices = torch.max(probs, 1)\n",
    "            accuracy = ((indices.to(device) - labels.to(device)) == 0).sum()\n",
    "            accuracy = accuracy.detach().cpu().numpy() / len(indices)\n",
    "            #print(accuracy)\n",
    "            cur_acc.append(accuracy)\n",
    "        except:\n",
    "            break\n",
    "    print(\"validation loss: \",np.mean(cur_val_loss))\n",
    "    average_losses.append(np.mean(cur_val_loss))\n",
    "    print(\"accuracy: \",np.mean(cur_acc))\n",
    "    average_losses.append(np.mean(cur_val_loss))\n",
    "    acc.append(np.mean(cur_acc))\n",
    "    if min_validation > np.mean(cur_val_loss):\n",
    "        min_validation = np.mean(cur_val_loss)\n",
    "        min_val_epoch = epoch\n",
    "        torch.save(net.state_dict(), './net_parameters.pth')"
   ]
  },
  {
   "cell_type": "code",
   "execution_count": 15,
   "metadata": {},
   "outputs": [],
   "source": [
    "img_path = \"./Test\"\n",
    "transform = transforms.Compose([transforms.Grayscale(),\n",
    "                                transforms.ToTensor(),\n",
    "                                transforms.Normalize((0.5,), (0.5,))])\n",
    "test_dataset = datasets.ImageFolder(img_path,transform)\n",
    "test_data_loader = DataLoader(dataset =test_dataset,batch_size=1,shuffle=True,num_workers=1)"
   ]
  },
  {
   "cell_type": "code",
   "execution_count": 17,
   "metadata": {},
   "outputs": [
    {
     "name": "stdout",
     "output_type": "stream",
     "text": [
      "accuracy:  0.968\n"
     ]
    }
   ],
   "source": [
    "data_iter = iter(test_data_loader)\n",
    "test_acc = []\n",
    "while True:\n",
    "    try:\n",
    "        net.eval()\n",
    "        imgs, labels = data_iter.next()\n",
    "        probs = net(torch.flatten(imgs.to(device), start_dim=1))\n",
    "        values, indices = torch.max(probs, 1)\n",
    "        accuracy = ((indices.to(device) - labels.to(device)) == 0).sum()\n",
    "        accuracy = accuracy.detach().cpu().numpy() / len(indices)\n",
    "        #print(accuracy)\n",
    "        test_acc.append(accuracy)\n",
    "    except:\n",
    "        break\n",
    "print(\"accuracy: \",np.mean(test_acc))"
   ]
  }
 ],
 "metadata": {
  "kernelspec": {
   "display_name": "Python 3",
   "language": "python",
   "name": "python3"
  },
  "language_info": {
   "codemirror_mode": {
    "name": "ipython",
    "version": 3
   },
   "file_extension": ".py",
   "mimetype": "text/x-python",
   "name": "python",
   "nbconvert_exporter": "python",
   "pygments_lexer": "ipython3",
   "version": "3.7.3"
  }
 },
 "nbformat": 4,
 "nbformat_minor": 2
}
