{
 "cells": [
  {
   "cell_type": "code",
   "execution_count": null,
   "metadata": {
    "scrolled": true
   },
   "outputs": [],
   "source": [
    "import numpy as np\n",
    "import cv2\n",
    "from mnist import extract_labels, extract_images\n",
    "import os"
   ]
  },
  {
   "cell_type": "markdown",
   "metadata": {},
   "source": [
    "download the mnist dataset from http://yann.lecun.com/exdb/mnist/ and copy those files to your current directory"
   ]
  },
  {
   "cell_type": "markdown",
   "metadata": {},
   "source": [
    "once the mnist dataset is downloaded from yann lecun's website we need to unzip them and then we can extract the images. The extract labels and images methods from the mnist.py file will create our images for us."
   ]
  },
  {
   "cell_type": "code",
   "execution_count": null,
   "metadata": {},
   "outputs": [],
   "source": [
    "#Path to where test images ubyte file is located\n",
    "mnist_img_path = \"./t10k-images-idx3-ubyte\"\n",
    "#Path to where you want to save those images\n",
    "save_path = \"./mnist_test_images\"\n",
    "#Method to create and save the images.\n",
    "extract_images(mnist_img_path,save_path)"
   ]
  },
  {
   "cell_type": "code",
   "execution_count": null,
   "metadata": {},
   "outputs": [],
   "source": [
    "#Path to where test labels ubyte file is located\n",
    "mnist_label_path = \"./t10k-labels-idx1-ubyte\"\n",
    "#Path to where you want to save the label text file\n",
    "save_label_path = \"./mnist_test_labels/mnist_test_labels.txt\"\n",
    "#Method to create and save the labels.\n",
    "extract_labels(mnist_label_path,save_label_path)"
   ]
  },
  {
   "cell_type": "code",
   "execution_count": null,
   "metadata": {},
   "outputs": [],
   "source": [
    "#Save train images\n",
    "mnist_img_path = \"./train-images-idx3-ubyte\"\n",
    "save_path = \"./mnist_train_images\"\n",
    "extract_images(mnist_img_path,save_path)"
   ]
  },
  {
   "cell_type": "code",
   "execution_count": null,
   "metadata": {},
   "outputs": [],
   "source": [
    "#Save train labels\n",
    "mnist_label_path = \"./train-labels-idx1-ubyte\"\n",
    "save_label_path = \"./mnist_train_labels/mnist_train_labels.txt\"\n",
    "extract_labels(mnist_label_path,save_label_path)"
   ]
  },
  {
   "cell_type": "markdown",
   "metadata": {},
   "source": [
    "When we look at the results of the images in the directory we saved them too, we notice that all the images are located in this directory. To be able to create a learning algorithm that will eventually classify these images correctly we must create directories corresponding to the images label. Our next task is to write a method that will do this for us. \n",
    "\n",
    "We need to first create directories for each of the handwritten digits possible labels. Do this and then try to write a method that will save the handwritten digit image into it's corresponding label's directory I would write code that copies the image rather than moves the files.\n",
    "\n",
    "One way to do this would be to load in the image and it's corresponding label, and open the image using the opencv2 library. Then save the image using the opencv2 library to the correct directory."
   ]
  },
  {
   "cell_type": "code",
   "execution_count": null,
   "metadata": {},
   "outputs": [],
   "source": [
    "import re\n",
    "from os import listdir\n",
    "from os.path import isfile, join\n",
    "def load_images_into_labeled_directories(path_to_images,\n",
    "                                         path_to_labels,\n",
    "                                         path_to_save):\n",
    "    #place code below \n",
    "    imgs = [f for f in os.listdir(path_to_images) if \\\n",
    "                 os.path.isfile(os.path.join(path_to_images,f))]\n",
    "    imgs.sort(key=lambda f: int(re.sub('\\D','',f)))\n",
    "    labels = open(path_to_labels,\"r\")\n",
    "    idx = 0\n",
    "    for line in labels:\n",
    "        img = cv2.imread(path_to_images+\"/\"+imgs[idx], cv2.IMREAD_GRAYSCALE)\n",
    "        cv2.imwrite(path_to_save+\"/\"+line[0]+\"/\"+imgs[idx],img)\n",
    "        idx+=1\n",
    "    \n",
    "    \n",
    "    \n",
    "    \n",
    "    "
   ]
  },
  {
   "cell_type": "markdown",
   "metadata": {},
   "source": [
    "Before you save the images you must make sure that you have the directory Train created and the directories 0 thru 9 for where we want to save these images, as specified in the readme file"
   ]
  },
  {
   "cell_type": "code",
   "execution_count": null,
   "metadata": {},
   "outputs": [],
   "source": [
    "load_images_into_labeled_directories(path_to_images=\"./mnist_train_images/\",\\\n",
    "                                     path_to_labels=\"./mnist_train_labels/\"+\\\n",
    "                                     \"mnist_train_labels.txt\",\n",
    "                                     path_to_save=\"./Train\")"
   ]
  }
 ],
 "metadata": {
  "kernelspec": {
   "display_name": "Python 3",
   "language": "python",
   "name": "python3"
  },
  "language_info": {
   "codemirror_mode": {
    "name": "ipython",
    "version": 3
   },
   "file_extension": ".py",
   "mimetype": "text/x-python",
   "name": "python",
   "nbconvert_exporter": "python",
   "pygments_lexer": "ipython3",
   "version": "3.7.3"
  }
 },
 "nbformat": 4,
 "nbformat_minor": 2
}
